{
 "cells": [
  {
   "cell_type": "markdown",
   "metadata": {},
   "source": [
    "# Visualize IMC iamges for the multi-model alignment and analysis"
   ]
  },
  {
   "cell_type": "code",
   "execution_count": 1,
   "metadata": {},
   "outputs": [],
   "source": [
    "import os, sys\n",
    "import numpy as np\n",
    "import matplotlib.pyplot as plt\n",
    "import tifffile as tiff\n",
    "\n",
    "from readimc import MCDFile, TXTFile"
   ]
  },
  {
   "cell_type": "code",
   "execution_count": 2,
   "metadata": {},
   "outputs": [
    {
     "name": "stdout",
     "output_type": "stream",
     "text": [
      "['20250304_QH_MALDI_IMC_GutenTAG_JA_2609.mcd']\n"
     ]
    }
   ],
   "source": [
    "transfer_nas = \"/mnt/central_nas/datasharing/Quentin/IMC_MALDI_gutenTAG/IMC\"\n",
    "exp_name = \"2609/20250304_QH_MALDI_IMC_GutenTAG_JA_2609\"\n",
    "exp_dir = os.path.join(transfer_nas, exp_name)\n",
    "\n",
    "exp_vim_dir = os.path.join(exp_dir, \"VIM\")\n",
    "if not os.path.exists(exp_vim_dir):\n",
    "    os.makedirs(exp_vim_dir)\n",
    "\n",
    "# list out all the files in the directory\n",
    "files = os.listdir(exp_dir)\n",
    "# keep only mcd\n",
    "files = [f for f in files if f.endswith(\".mcd\")]\n",
    "print(files)"
   ]
  },
  {
   "cell_type": "code",
   "execution_count": 3,
   "metadata": {},
   "outputs": [],
   "source": [
    "def read_imc_dict(file_big, id):\n",
    "    #return a dictionary with three images: slide, panorama, imc\n",
    "    with MCDFile(file_big) as f:\n",
    "        slide = f.slides[0] # first slide\n",
    "        panorama = slide.panoramas[0] # first panorama of first slide\n",
    "        acquisition = slide.acquisitions[id]\n",
    "        before_ablation = f.read_before_ablation_image(acquisition)\n",
    "        \n",
    "        # print panorama info\n",
    "        # print(\"Panorama info:\")\n",
    "        # print(panorama.width_um, panorama.height_um)\n",
    "        \n",
    "        # print acquisition info\n",
    "        print(\"Acquisition info:\")\n",
    "        print(acquisition.id, acquisition.description, acquisition.width_um, acquisition.height_um)\n",
    "        \n",
    "        channel_labels = acquisition.channel_labels\n",
    "        \n",
    "        img_slide = f.read_slide(slide)\n",
    "        img_panorama = f.read_panorama(panorama)\n",
    "        img_imc = f.read_acquisition(acquisition)\n",
    "\n",
    "        # put the image into a dictionary\n",
    "        img_dict = {}\n",
    "        img_dict['slide'] = img_slide\n",
    "        img_dict['panorama'] = img_panorama\n",
    "        img_dict['description'] = acquisition.description\n",
    "        img_dict['imc'] = img_imc\n",
    "        img_dict['bf_imc'] = before_ablation\n",
    "    return img_dict, channel_labels"
   ]
  },
  {
   "cell_type": "code",
   "execution_count": null,
   "metadata": {},
   "outputs": [
    {
     "name": "stdout",
     "output_type": "stream",
     "text": [
      "Acquisition info:\n",
      "1 2570 1777.0 1487.0\n"
     ]
    },
    {
     "name": "stderr",
     "output_type": "stream",
     "text": [
      "/home/ubuntu/miniconda3/envs/IMCanalysis/lib/python3.10/site-packages/PIL/Image.py:1045: UserWarning: Palette images with Transparency expressed in bytes should be converted to RGBA images\n",
      "  warnings.warn(\n"
     ]
    },
    {
     "name": "stdout",
     "output_type": "stream",
     "text": [
      "Acquisition info:\n",
      "2 2570_2 1516.0 2026.0\n",
      "Acquisition info:\n",
      "3 ROI_003 2879.0 2351.0\n",
      "Acquisition info:\n",
      "4 ROI_004 1937.0 3465.0\n"
     ]
    }
   ],
   "source": [
    "# num_acquisitions = 5\n",
    "# for i in range(num_acquisitions):\n",
    "#     test_img_dict, test_channel_labels = read_imc_dict(os.path.join(exp_dir, files[0]), i)\n",
    "#     # save the vim channel as a tiff for alignment\n",
    "#     tiff.imwrite(os.path.join(exp_vim_dir, f\"VIM_{i}.tiff\"), test_img_dict['imc'][20, :, :])\n",
    "    "
   ]
  },
  {
   "cell_type": "code",
   "execution_count": 4,
   "metadata": {},
   "outputs": [
    {
     "name": "stdout",
     "output_type": "stream",
     "text": [
      "Acquisition info:\n",
      "1 ROI_001 1574.0 763.0\n"
     ]
    },
    {
     "name": "stderr",
     "output_type": "stream",
     "text": [
      "/home/ubuntu/miniconda3/envs/IMCanalysis/lib/python3.10/site-packages/PIL/Image.py:1045: UserWarning: Palette images with Transparency expressed in bytes should be converted to RGBA images\n",
      "  warnings.warn(\n"
     ]
    }
   ],
   "source": [
    "test_img_dict, test_channel_labels = read_imc_dict(os.path.join(exp_dir, files[0]), 0)"
   ]
  },
  {
   "cell_type": "code",
   "execution_count": 5,
   "metadata": {},
   "outputs": [
    {
     "name": "stdout",
     "output_type": "stream",
     "text": [
      "(3775, 5800, 3)\n",
      "(26, 763, 1574)\n",
      "171Yb_171Yb 195Pt_195Pt\n"
     ]
    }
   ],
   "source": [
    "test_pano = test_img_dict['panorama']\n",
    "print(test_pano.shape)\n",
    "\n",
    "test_imc = test_img_dict['imc']\n",
    "print(test_imc.shape)\n",
    "\n",
    "print(test_channel_labels[20], test_channel_labels[25])"
   ]
  },
  {
   "cell_type": "markdown",
   "metadata": {},
   "source": [
    "Compute pixel size"
   ]
  },
  {
   "cell_type": "code",
   "execution_count": 23,
   "metadata": {},
   "outputs": [
    {
     "name": "stdout",
     "output_type": "stream",
     "text": [
      "4.0 4.0\n"
     ]
    }
   ],
   "source": [
    "# check the pixel size of the image in panorama\n",
    "print(15300/3825, 29100/7275)"
   ]
  },
  {
   "cell_type": "code",
   "execution_count": 6,
   "metadata": {},
   "outputs": [],
   "source": [
    "# save test pano\n",
    "tiff.imwrite(os.getcwd() + \"/2609_pano.tiff\", test_pano)"
   ]
  }
 ],
 "metadata": {
  "kernelspec": {
   "display_name": "IMCanalysis",
   "language": "python",
   "name": "python3"
  },
  "language_info": {
   "codemirror_mode": {
    "name": "ipython",
    "version": 3
   },
   "file_extension": ".py",
   "mimetype": "text/x-python",
   "name": "python",
   "nbconvert_exporter": "python",
   "pygments_lexer": "ipython3",
   "version": "3.10.0"
  }
 },
 "nbformat": 4,
 "nbformat_minor": 2
}
