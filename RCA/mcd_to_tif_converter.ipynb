{
 "cells": [
  {
   "cell_type": "code",
   "execution_count": 1,
   "metadata": {},
   "outputs": [],
   "source": [
    "import os, sys\n",
    "import numpy as np\n",
    "import pandas as pd\n",
    "import matplotlib.pyplot as plt\n",
    "import tifffile as tiff\n",
    "import scipy.ndimage\n",
    "from readimc import MCDFile, TXTFile"
   ]
  },
  {
   "cell_type": "code",
   "execution_count": 2,
   "metadata": {},
   "outputs": [
    {
     "name": "stdout",
     "output_type": "stream",
     "text": [
      "['20250503_QH_in_vivo_RCA_imc.mcd']\n",
      "['20250503_QH_in_vivo_RCA_imc_df.xlsx']\n"
     ]
    }
   ],
   "source": [
    "work_dir = os.getcwd()\n",
    "data_dir = \"/mnt/central_nas/users/ychian/Exp/202503_IMC_inten_encoding/20250503_eGFP_in_vivo_RCA\"\n",
    "\n",
    "# list out all the files in the directory\n",
    "mcd_list = os.listdir(data_dir)\n",
    "mcd_list = [f for f in mcd_list if f.endswith('.mcd')]\n",
    "\n",
    "df_list = os.listdir(data_dir)\n",
    "df_list = [f for f in df_list if f.endswith('.xlsx')]\n",
    "\n",
    "print(mcd_list)\n",
    "print(df_list)\n"
   ]
  },
  {
   "cell_type": "code",
   "execution_count": 3,
   "metadata": {},
   "outputs": [],
   "source": [
    "tif_dir = os.path.join(data_dir, 'tif')\n",
    "if not os.path.exists(tif_dir):\n",
    "    os.makedirs(tif_dir)"
   ]
  },
  {
   "cell_type": "code",
   "execution_count": 4,
   "metadata": {},
   "outputs": [],
   "source": [
    "df = pd.read_excel(os.path.join(data_dir, df_list[0]))\n",
    "# set the data type of the columns\n",
    "df = df.astype({'file_name': 'str', 'image_decay': 'str', 'resolution': 'float', 'power': 'int', 'shot': 'int', 'rep': 'int', 'id': 'str', 'cond': 'str'})"
   ]
  },
  {
   "cell_type": "code",
   "execution_count": 5,
   "metadata": {},
   "outputs": [
    {
     "data": {
      "text/html": [
       "<div>\n",
       "<style scoped>\n",
       "    .dataframe tbody tr th:only-of-type {\n",
       "        vertical-align: middle;\n",
       "    }\n",
       "\n",
       "    .dataframe tbody tr th {\n",
       "        vertical-align: top;\n",
       "    }\n",
       "\n",
       "    .dataframe thead th {\n",
       "        text-align: right;\n",
       "    }\n",
       "</style>\n",
       "<table border=\"1\" class=\"dataframe\">\n",
       "  <thead>\n",
       "    <tr style=\"text-align: right;\">\n",
       "      <th></th>\n",
       "      <th>file_name</th>\n",
       "      <th>image_decay</th>\n",
       "      <th>resolution</th>\n",
       "      <th>power</th>\n",
       "      <th>shot</th>\n",
       "      <th>rep</th>\n",
       "      <th>id</th>\n",
       "      <th>cond</th>\n",
       "    </tr>\n",
       "  </thead>\n",
       "  <tbody>\n",
       "    <tr>\n",
       "      <th>0</th>\n",
       "      <td>20250503_QH_in_vivo_RCA_imc_ROI_001_1</td>\n",
       "      <td>image</td>\n",
       "      <td>1.0</td>\n",
       "      <td>0</td>\n",
       "      <td>1</td>\n",
       "      <td>1</td>\n",
       "      <td>1</td>\n",
       "      <td>G1</td>\n",
       "    </tr>\n",
       "    <tr>\n",
       "      <th>1</th>\n",
       "      <td>20250503_QH_in_vivo_RCA_imc_ROI_002_2</td>\n",
       "      <td>image</td>\n",
       "      <td>1.0</td>\n",
       "      <td>0</td>\n",
       "      <td>1</td>\n",
       "      <td>1</td>\n",
       "      <td>2</td>\n",
       "      <td>G2</td>\n",
       "    </tr>\n",
       "    <tr>\n",
       "      <th>2</th>\n",
       "      <td>20250503_QH_in_vivo_RCA_imc_ROI_003_3</td>\n",
       "      <td>image</td>\n",
       "      <td>1.0</td>\n",
       "      <td>0</td>\n",
       "      <td>1</td>\n",
       "      <td>1</td>\n",
       "      <td>3</td>\n",
       "      <td>G3</td>\n",
       "    </tr>\n",
       "    <tr>\n",
       "      <th>3</th>\n",
       "      <td>20250503_QH_in_vivo_RCA_imc_ROI_004_4</td>\n",
       "      <td>image</td>\n",
       "      <td>1.0</td>\n",
       "      <td>0</td>\n",
       "      <td>1</td>\n",
       "      <td>1</td>\n",
       "      <td>4</td>\n",
       "      <td>G4</td>\n",
       "    </tr>\n",
       "    <tr>\n",
       "      <th>4</th>\n",
       "      <td>20250503_QH_in_vivo_RCA_imc_ROI_005_5</td>\n",
       "      <td>image</td>\n",
       "      <td>1.0</td>\n",
       "      <td>0</td>\n",
       "      <td>1</td>\n",
       "      <td>1</td>\n",
       "      <td>5</td>\n",
       "      <td>W1</td>\n",
       "    </tr>\n",
       "    <tr>\n",
       "      <th>5</th>\n",
       "      <td>20250503_QH_in_vivo_RCA_imc_ROI_006_6</td>\n",
       "      <td>image</td>\n",
       "      <td>1.0</td>\n",
       "      <td>0</td>\n",
       "      <td>1</td>\n",
       "      <td>1</td>\n",
       "      <td>6</td>\n",
       "      <td>W2</td>\n",
       "    </tr>\n",
       "    <tr>\n",
       "      <th>6</th>\n",
       "      <td>20250503_QH_in_vivo_RCA_imc_ROI_007_7</td>\n",
       "      <td>image</td>\n",
       "      <td>1.0</td>\n",
       "      <td>0</td>\n",
       "      <td>1</td>\n",
       "      <td>1</td>\n",
       "      <td>7</td>\n",
       "      <td>W3</td>\n",
       "    </tr>\n",
       "    <tr>\n",
       "      <th>7</th>\n",
       "      <td>20250503_QH_in_vivo_RCA_imc_ROI_008_8</td>\n",
       "      <td>image</td>\n",
       "      <td>1.0</td>\n",
       "      <td>0</td>\n",
       "      <td>1</td>\n",
       "      <td>1</td>\n",
       "      <td>8</td>\n",
       "      <td>W4</td>\n",
       "    </tr>\n",
       "  </tbody>\n",
       "</table>\n",
       "</div>"
      ],
      "text/plain": [
       "                               file_name image_decay  resolution  power  shot  \\\n",
       "0  20250503_QH_in_vivo_RCA_imc_ROI_001_1       image         1.0      0     1   \n",
       "1  20250503_QH_in_vivo_RCA_imc_ROI_002_2       image         1.0      0     1   \n",
       "2  20250503_QH_in_vivo_RCA_imc_ROI_003_3       image         1.0      0     1   \n",
       "3  20250503_QH_in_vivo_RCA_imc_ROI_004_4       image         1.0      0     1   \n",
       "4  20250503_QH_in_vivo_RCA_imc_ROI_005_5       image         1.0      0     1   \n",
       "5  20250503_QH_in_vivo_RCA_imc_ROI_006_6       image         1.0      0     1   \n",
       "6  20250503_QH_in_vivo_RCA_imc_ROI_007_7       image         1.0      0     1   \n",
       "7  20250503_QH_in_vivo_RCA_imc_ROI_008_8       image         1.0      0     1   \n",
       "\n",
       "   rep id cond  \n",
       "0    1  1   G1  \n",
       "1    1  2   G2  \n",
       "2    1  3   G3  \n",
       "3    1  4   G4  \n",
       "4    1  5   W1  \n",
       "5    1  6   W2  \n",
       "6    1  7   W3  \n",
       "7    1  8   W4  "
      ]
     },
     "execution_count": 5,
     "metadata": {},
     "output_type": "execute_result"
    }
   ],
   "source": [
    "df.head(70)"
   ]
  },
  {
   "cell_type": "markdown",
   "metadata": {},
   "source": [
    "Set up the decay image groups"
   ]
  },
  {
   "cell_type": "markdown",
   "metadata": {},
   "source": [
    "## Read in files"
   ]
  },
  {
   "cell_type": "code",
   "execution_count": 6,
   "metadata": {},
   "outputs": [],
   "source": [
    "def read_imc_dict(file_big, id):\n",
    "    #return a dictionary with three images: slide, panorama, imc\n",
    "    with MCDFile(file_big) as f:\n",
    "        slide = f.slides[0] # first slide\n",
    "        panorama = slide.panoramas[0] # first panorama of first slide\n",
    "        acquisition = slide.acquisitions[id-1]\n",
    "        \n",
    "        channel_labels = acquisition.channel_labels\n",
    "        \n",
    "        img_slide = f.read_slide(slide)\n",
    "        img_panorama = f.read_panorama(panorama)\n",
    "        img_imc = f.read_acquisition(acquisition)\n",
    "\n",
    "        # put the image into a dictionary\n",
    "        img_dict = {}\n",
    "        img_dict['slide'] = img_slide\n",
    "        img_dict['panorama'] = img_panorama\n",
    "        img_dict['description'] = acquisition.description\n",
    "        img_dict['imc'] = img_imc\n",
    "    return img_dict, channel_labels\n",
    "\n",
    "def convert_imc_to_tif(file_big, id, output_dir):\n",
    "    with MCDFile(file_big) as f:\n",
    "        slide = f.slides[0] # first slide\n",
    "        acquisition = slide.acquisitions[id-1] # nineth acquisition of first slide\n",
    "        \n",
    "        channel_labels = acquisition.channel_labels\n",
    "        img_imc = f.read_acquisition(acquisition)\n",
    "        # save the image as tif [channel, x, y]\n",
    "        file_name = os.path.join(tif_dir, acquisition.description + \".tif\")\n",
    "        tiff.imwrite(file_name, img_imc)\n",
    "    return"
   ]
  },
  {
   "cell_type": "code",
   "execution_count": 7,
   "metadata": {},
   "outputs": [
    {
     "data": {
      "text/plain": [
       "'/mnt/central_nas/users/ychian/Exp/202503_IMC_inten_encoding/20250503_eGFP_in_vivo_RCA/20250503_QH_in_vivo_RCA_imc.mcd'"
      ]
     },
     "execution_count": 7,
     "metadata": {},
     "output_type": "execute_result"
    }
   ],
   "source": [
    "file_big =  mcd_list[0]\n",
    "file_big = os.path.join(data_dir, file_big)\n",
    "file_big"
   ]
  },
  {
   "cell_type": "markdown",
   "metadata": {},
   "source": [
    "### Convert all image mcds to tiffs (standalone block)"
   ]
  },
  {
   "cell_type": "code",
   "execution_count": 8,
   "metadata": {},
   "outputs": [
    {
     "name": "stdout",
     "output_type": "stream",
     "text": [
      "Converting id:  1\n",
      "Converting id:  2\n",
      "Converting id:  3\n",
      "Converting id:  4\n",
      "Converting id:  5\n",
      "Converting id:  6\n",
      "Converting id:  7\n",
      "Converting id:  8\n"
     ]
    }
   ],
   "source": [
    "for id in df['id'].unique():\n",
    "    # convert the imc to tif\n",
    "    id = int(id)\n",
    "    print(\"Converting id: \", id)\n",
    "    convert_imc_to_tif(file_big, id, tif_dir)"
   ]
  }
 ],
 "metadata": {
  "kernelspec": {
   "display_name": "IMCanalysis",
   "language": "python",
   "name": "python3"
  },
  "language_info": {
   "codemirror_mode": {
    "name": "ipython",
    "version": 3
   },
   "file_extension": ".py",
   "mimetype": "text/x-python",
   "name": "python",
   "nbconvert_exporter": "python",
   "pygments_lexer": "ipython3",
   "version": "3.10.0"
  }
 },
 "nbformat": 4,
 "nbformat_minor": 2
}
