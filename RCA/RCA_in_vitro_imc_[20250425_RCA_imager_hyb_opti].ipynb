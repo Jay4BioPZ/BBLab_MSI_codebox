{
 "cells": [
  {
   "cell_type": "code",
   "execution_count": 1,
   "id": "9fc2f812",
   "metadata": {},
   "outputs": [],
   "source": [
    "import os, sys\n",
    "import numpy as np\n",
    "import pandas as pd\n",
    "import matplotlib.pyplot as plt\n",
    "import tifffile as tiff\n",
    "import scipy.ndimage\n",
    "from cellpose import models\n",
    "from readimc import MCDFile, TXTFile"
   ]
  },
  {
   "cell_type": "code",
   "execution_count": 9,
   "id": "5d9f21bd",
   "metadata": {},
   "outputs": [
    {
     "name": "stdout",
     "output_type": "stream",
     "text": [
      "['20240425_RCA_in_vitro_hyb_opti_s3.mcd']\n",
      "['20240425_RCA_in_vitro_hyb_opti_s3_df.xlsx']\n"
     ]
    }
   ],
   "source": [
    "work_dir = os.getcwd()\n",
    "data_dir = \"/mnt/central_nas/users/ychian/Exp/202503_IMC_inten_encoding/20250425_RCA_imager_hyb_opti/20240425_RCA_in_vitro_hyb_opti_s3\"\n",
    "\n",
    "# list out all the files in the directory\n",
    "mcd_list = os.listdir(data_dir)\n",
    "mcd_list = [f for f in mcd_list if f.endswith('.mcd')]\n",
    "\n",
    "df_list = os.listdir(data_dir)\n",
    "df_list = [f for f in df_list if f.endswith('.xlsx')]\n",
    "\n",
    "print(mcd_list)\n",
    "print(df_list)\n"
   ]
  },
  {
   "cell_type": "code",
   "execution_count": 10,
   "id": "7a98a971",
   "metadata": {},
   "outputs": [],
   "source": [
    "tif_dir = os.path.join(data_dir, 'tif')\n",
    "if not os.path.exists(tif_dir):\n",
    "    os.makedirs(tif_dir)"
   ]
  },
  {
   "cell_type": "code",
   "execution_count": 11,
   "id": "ef64ae12",
   "metadata": {},
   "outputs": [],
   "source": [
    "df = pd.read_excel(os.path.join(data_dir, df_list[0]))\n",
    "# set the data type of the columns\n",
    "df = df.astype({'file_name': 'str', 'image_decay': 'str', 'resolution': 'float', 'power': 'int', 'shot': 'int', 'rep': 'int', 'id': 'str', 'cond': 'str'})"
   ]
  },
  {
   "cell_type": "code",
   "execution_count": 12,
   "id": "b38d1e3c",
   "metadata": {},
   "outputs": [
    {
     "data": {
      "text/html": [
       "<div>\n",
       "<style scoped>\n",
       "    .dataframe tbody tr th:only-of-type {\n",
       "        vertical-align: middle;\n",
       "    }\n",
       "\n",
       "    .dataframe tbody tr th {\n",
       "        vertical-align: top;\n",
       "    }\n",
       "\n",
       "    .dataframe thead th {\n",
       "        text-align: right;\n",
       "    }\n",
       "</style>\n",
       "<table border=\"1\" class=\"dataframe\">\n",
       "  <thead>\n",
       "    <tr style=\"text-align: right;\">\n",
       "      <th></th>\n",
       "      <th>file_name</th>\n",
       "      <th>image_decay</th>\n",
       "      <th>resolution</th>\n",
       "      <th>power</th>\n",
       "      <th>shot</th>\n",
       "      <th>rep</th>\n",
       "      <th>id</th>\n",
       "      <th>cond</th>\n",
       "    </tr>\n",
       "  </thead>\n",
       "  <tbody>\n",
       "    <tr>\n",
       "      <th>0</th>\n",
       "      <td>20240425_RCA_in_vitro_hyb_opti_s3_ROI_001_1</td>\n",
       "      <td>image</td>\n",
       "      <td>1.0</td>\n",
       "      <td>0</td>\n",
       "      <td>1</td>\n",
       "      <td>1</td>\n",
       "      <td>1</td>\n",
       "      <td>imager_washed</td>\n",
       "    </tr>\n",
       "    <tr>\n",
       "      <th>1</th>\n",
       "      <td>20240425_RCA_in_vitro_hyb_opti_s3_ROI_002_2</td>\n",
       "      <td>image</td>\n",
       "      <td>1.0</td>\n",
       "      <td>0</td>\n",
       "      <td>1</td>\n",
       "      <td>1</td>\n",
       "      <td>2</td>\n",
       "      <td>imager_dried</td>\n",
       "    </tr>\n",
       "    <tr>\n",
       "      <th>2</th>\n",
       "      <td>20240425_RCA_in_vitro_hyb_opti_s3_ROI_003_3</td>\n",
       "      <td>image</td>\n",
       "      <td>1.0</td>\n",
       "      <td>0</td>\n",
       "      <td>1</td>\n",
       "      <td>1</td>\n",
       "      <td>3</td>\n",
       "      <td>37d_PBS_Dy161</td>\n",
       "    </tr>\n",
       "    <tr>\n",
       "      <th>3</th>\n",
       "      <td>20240425_RCA_in_vitro_hyb_opti_s3_ROI_004_4</td>\n",
       "      <td>image</td>\n",
       "      <td>1.0</td>\n",
       "      <td>0</td>\n",
       "      <td>1</td>\n",
       "      <td>1</td>\n",
       "      <td>4</td>\n",
       "      <td>37d_PBS_Tm169</td>\n",
       "    </tr>\n",
       "    <tr>\n",
       "      <th>4</th>\n",
       "      <td>20240425_RCA_in_vitro_hyb_opti_s3_ROI_005_5</td>\n",
       "      <td>image</td>\n",
       "      <td>1.0</td>\n",
       "      <td>0</td>\n",
       "      <td>1</td>\n",
       "      <td>1</td>\n",
       "      <td>5</td>\n",
       "      <td>37d_SSC_Dy161</td>\n",
       "    </tr>\n",
       "    <tr>\n",
       "      <th>5</th>\n",
       "      <td>20240425_RCA_in_vitro_hyb_opti_s3_ROI_006_6</td>\n",
       "      <td>image</td>\n",
       "      <td>1.0</td>\n",
       "      <td>0</td>\n",
       "      <td>1</td>\n",
       "      <td>1</td>\n",
       "      <td>6</td>\n",
       "      <td>37d_SSC_Tm169</td>\n",
       "    </tr>\n",
       "  </tbody>\n",
       "</table>\n",
       "</div>"
      ],
      "text/plain": [
       "                                     file_name image_decay  resolution  power  \\\n",
       "0  20240425_RCA_in_vitro_hyb_opti_s3_ROI_001_1       image         1.0      0   \n",
       "1  20240425_RCA_in_vitro_hyb_opti_s3_ROI_002_2       image         1.0      0   \n",
       "2  20240425_RCA_in_vitro_hyb_opti_s3_ROI_003_3       image         1.0      0   \n",
       "3  20240425_RCA_in_vitro_hyb_opti_s3_ROI_004_4       image         1.0      0   \n",
       "4  20240425_RCA_in_vitro_hyb_opti_s3_ROI_005_5       image         1.0      0   \n",
       "5  20240425_RCA_in_vitro_hyb_opti_s3_ROI_006_6       image         1.0      0   \n",
       "\n",
       "   shot  rep id           cond  \n",
       "0     1    1  1  imager_washed  \n",
       "1     1    1  2   imager_dried  \n",
       "2     1    1  3  37d_PBS_Dy161  \n",
       "3     1    1  4  37d_PBS_Tm169  \n",
       "4     1    1  5  37d_SSC_Dy161  \n",
       "5     1    1  6  37d_SSC_Tm169  "
      ]
     },
     "execution_count": 12,
     "metadata": {},
     "output_type": "execute_result"
    }
   ],
   "source": [
    "df.head(70)"
   ]
  },
  {
   "cell_type": "markdown",
   "id": "4494663d",
   "metadata": {},
   "source": [
    "## Read in files"
   ]
  },
  {
   "cell_type": "code",
   "execution_count": 13,
   "id": "4e746ece",
   "metadata": {},
   "outputs": [],
   "source": [
    "def read_imc_dict(file_big, id):\n",
    "    #return a dictionary with three images: slide, panorama, imc\n",
    "    with MCDFile(file_big) as f:\n",
    "        slide = f.slides[0] # first slide\n",
    "        panorama = slide.panoramas[0] # first panorama of first slide\n",
    "        acquisition = slide.acquisitions[id-1]\n",
    "        \n",
    "        channel_labels = acquisition.channel_labels\n",
    "        \n",
    "        img_slide = f.read_slide(slide)\n",
    "        img_panorama = f.read_panorama(panorama)\n",
    "        img_imc = f.read_acquisition(acquisition)\n",
    "\n",
    "        # put the image into a dictionary\n",
    "        img_dict = {}\n",
    "        img_dict['slide'] = img_slide\n",
    "        img_dict['panorama'] = img_panorama\n",
    "        img_dict['description'] = acquisition.description\n",
    "        img_dict['imc'] = img_imc\n",
    "    return img_dict, channel_labels\n",
    "\n",
    "def convert_imc_to_tif(file_big, id, output_dir):\n",
    "    with MCDFile(file_big) as f:\n",
    "        slide = f.slides[0] # first slide\n",
    "        acquisition = slide.acquisitions[id-1] # nineth acquisition of first slide\n",
    "        \n",
    "        channel_labels = acquisition.channel_labels\n",
    "        img_imc = f.read_acquisition(acquisition)\n",
    "        # save the image as tif [channel, x, y]\n",
    "        file_name = os.path.join(tif_dir, acquisition.description + \".tif\")\n",
    "        tiff.imwrite(file_name, img_imc)\n",
    "    return"
   ]
  },
  {
   "cell_type": "code",
   "execution_count": 14,
   "id": "4e9af06d",
   "metadata": {},
   "outputs": [
    {
     "data": {
      "text/plain": [
       "'/mnt/central_nas/users/ychian/Exp/202503_IMC_inten_encoding/20250425_RCA_imager_hyb_opti/20240425_RCA_in_vitro_hyb_opti_s3/20240425_RCA_in_vitro_hyb_opti_s3.mcd'"
      ]
     },
     "execution_count": 14,
     "metadata": {},
     "output_type": "execute_result"
    }
   ],
   "source": [
    "file_big =  mcd_list[0]\n",
    "file_big = os.path.join(data_dir, file_big)\n",
    "file_big"
   ]
  },
  {
   "cell_type": "markdown",
   "id": "adc8554e",
   "metadata": {},
   "source": [
    "### Convert all image mcds to tiffs (standalone block)"
   ]
  },
  {
   "cell_type": "code",
   "execution_count": 15,
   "id": "1fd549d7",
   "metadata": {},
   "outputs": [
    {
     "name": "stdout",
     "output_type": "stream",
     "text": [
      "Converting id:  1\n",
      "Converting id:  2\n",
      "Converting id:  3\n",
      "Converting id:  4\n",
      "Converting id:  5\n",
      "Converting id:  6\n"
     ]
    }
   ],
   "source": [
    "for id in df['id'].unique():\n",
    "    # convert the imc to tif\n",
    "    id = int(id)\n",
    "    print(\"Converting id: \", id)\n",
    "    convert_imc_to_tif(file_big, id, tif_dir)"
   ]
  },
  {
   "cell_type": "markdown",
   "id": "f72731ed",
   "metadata": {},
   "source": [
    "## Generate colormap"
   ]
  },
  {
   "cell_type": "code",
   "execution_count": 25,
   "id": "bb09304a",
   "metadata": {},
   "outputs": [
    {
     "data": {
      "image/png": "[encoded data removed]",
      "text/plain": [
       "<Figure size 400x400 with 2 Axes>"
      ]
     },
     "metadata": {},
     "output_type": "display_data"
    }
   ],
   "source": [
    "# generage grayscale colormap 0-20\n",
    "\n",
    "plt.figure(figsize=(2, 2), dpi=200)\n",
    "# plot a gradient from 0 to 20\n",
    "gradient = np.linspace(0, 20, 256)\n",
    "gradient = np.vstack((gradient, gradient))\n",
    "plt.imshow(gradient, aspect='auto', cmap='gray')\n",
    "plt.clim(0, 500)\n",
    "# show colorbar, set ticks to 0, 20\n",
    "plt.colorbar(ticks=[0, 500], label='Intensity')\n",
    "plt.show()"
   ]
  }
 ],
 "metadata": {
  "kernelspec": {
   "display_name": "IMCanalysis",
   "language": "python",
   "name": "python3"
  },
  "language_info": {
   "codemirror_mode": {
    "name": "ipython",
    "version": 3
   },
   "file_extension": ".py",
   "mimetype": "text/x-python",
   "name": "python",
   "nbconvert_exporter": "python",
   "pygments_lexer": "ipython3",
   "version": "3.10.0"
  }
 },
 "nbformat": 4,
 "nbformat_minor": 5
}
